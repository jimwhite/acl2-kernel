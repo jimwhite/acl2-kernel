{
 "cells": [
  {
   "cell_type": "markdown",
   "metadata": {},
   "source": [
    "# Flying Demo\n",
    "\n",
    "This notebook is a demonstration for http://www.cs.utexas.edu/users/moore/publications/flying-demo/script.html\n",
    "\n",
    "Jupyter Kernel is [acl2-kernel](https://github.com/tani/acl2-kernel) written by TANIGUCHI Masaya.\n",
    "\n",
    "## Instruction\n",
    "\n",
    "1. Requirements\n",
    "    - ACL2 (version 8.2, or later)\n",
    "    - Python 3 (version 3.6 or later)\n",
    "2. Libraries: Install Jupyter environment\n",
    "  ```bash\n",
    "  $ pip install jupyter acl2-kernel\n",
    "  ```\n",
    "3. Usage: Launch Jupyter server\n",
    "  ```\n",
    "  $ jupyter notebook\n",
    "  ```\n",
    "4. After launching server, you can create new notebook!\n"
   ]
  },
  {
   "cell_type": "markdown",
   "metadata": {},
   "source": [
    "## Introduction\n",
    "\n",
    "We assume you know enough Lisp to evaluate this expression. What is its value? The function cons constructs an ordered pair of its two arguments. The function car returns the first component of an ordered pair; cdr, not used here, returns the other component. The function equal returns T or NIL (true or false) according to whether its two arguments are the same object."
   ]
  },
  {
   "cell_type": "code",
   "execution_count": 1,
   "metadata": {},
   "outputs": [
    {
     "name": "stdout",
     "output_type": "stream",
     "text": [
      "7\r\n"
     ]
    }
   ],
   "source": [
    "(+ 3 4)"
   ]
  },
  {
   "cell_type": "code",
   "execution_count": 2,
   "metadata": {},
   "outputs": [
    {
     "name": "stdout",
     "output_type": "stream",
     "text": [
      "T\r\n"
     ]
    }
   ],
   "source": [
    "(equal (car (cons 1 '(2 3 4))) 1)"
   ]
  },
  {
   "cell_type": "markdown",
   "metadata": {},
   "source": [
    "---\n",
    "This is a command to prove the indicated theorem. The theorem states that the car of the cons of two things is the first one. If you click on the link you will see ACL2 prove this.\n",
    "\n",
    "As you can see, ACL2's \"proofs\" are really descriptions of proofs or proof sketches, not formal mathematical proofs. But if ACL2 prints the \"Q.E.D.\" then it has confirmed (behind the scenes) that a formal proof exists. ACL2 contains a lot of decision procedures and powerful simplification techniques. So it is not always obvious how the system gets from one goal to the next. Note the time taken to do the proof."
   ]
  },
  {
   "cell_type": "code",
   "execution_count": 3,
   "metadata": {
    "scrolled": true
   },
   "outputs": [
    {
     "name": "stdout",
     "output_type": "stream",
     "text": [
      "\r\n",
      "Q.E.D.\r\n",
      "\r\n",
      "Summary\r\n",
      "Form:  ( THM ...)\r\n",
      "Rules: ((:REWRITE CAR-CONS))\r\n",
      "Time:  0.00 seconds (prove: 0.00, print: 0.00, other: 0.00)\r\n",
      "Prover steps counted:  7\r\n",
      "\r\n",
      "Proof succeeded.\r\n"
     ]
    }
   ],
   "source": [
    "(thm (equal (car (cons x y)) x))"
   ]
  },
  {
   "cell_type": "markdown",
   "metadata": {},
   "source": [
    "---\n",
    "The function endp recognizes the empty list."
   ]
  },
  {
   "cell_type": "code",
   "execution_count": 4,
   "metadata": {
    "scrolled": true
   },
   "outputs": [
    {
     "name": "stdout",
     "output_type": "stream",
     "text": [
      "T\r\n"
     ]
    }
   ],
   "source": [
    "(endp nil)"
   ]
  },
  {
   "cell_type": "markdown",
   "metadata": {},
   "source": [
    "---\n",
    "NIL is the symbol used by Lisp and ACL2 to denote the \"false\" truthvalue. NIL is also the \"empty list.\" T denotes the \"true\" truthvalue. Case is unimportant here. So nil and NIL are the same thing."
   ]
  },
  {
   "cell_type": "code",
   "execution_count": 5,
   "metadata": {
    "scrolled": true
   },
   "outputs": [
    {
     "name": "stdout",
     "output_type": "stream",
     "text": [
      "NIL\r\n"
     ]
    }
   ],
   "source": [
    "(endp '(1 2 3 4))"
   ]
  },
  {
   "cell_type": "markdown",
   "metadata": {},
   "source": [
    "---\n",
    "Another simple theorem. Think about the proof. Then click on the link and see if you understand ACL2's proof.\n",
    "When you click, the proof may overflow your browser's window. If so, scroll down to the next command prompt using your browser's scroll buttons. We recommend against using the slide bar!\n"
   ]
  },
  {
   "cell_type": "code",
   "execution_count": 1,
   "metadata": {
    "scrolled": true
   },
   "outputs": [
    {
     "name": "stdout",
     "output_type": "stream",
     "text": [
      "Goal'\r\n",
      "Goal''\r\n",
      "\r\n",
      "Q.E.D.\r\n",
      "\r\n",
      "Summary\r\n",
      "Form:  ( THM ...)\r\n",
      "Rules: ((:DEFINITION ENDP)\r\n",
      "        (:DEFINITION FIX)\r\n",
      "        (:DEFINITION LEN)\r\n",
      "        (:DEFINITION NOT)\r\n",
      "        (:EXECUTABLE-COUNTERPART BINARY-+)\r\n",
      "        (:EXECUTABLE-COUNTERPART TAU-SYSTEM)\r\n",
      "        (:REWRITE COMMUTATIVITY-2-OF-+)\r\n",
      "        (:REWRITE COMMUTATIVITY-OF-+)\r\n",
      "        (:REWRITE UNICITY-OF-1))\r\n",
      "Time:  0.00 seconds (prove: 0.00, print: 0.00, other: 0.00)\r\n",
      "Prover steps counted:  212\r\n",
      "\r\n",
      "Proof succeeded.\r\n"
     ]
    }
   ],
   "source": [
    "(thm (implies (and (not (endp x))\n",
    "                   (endp (cdr x))\n",
    "                   (integerp n)\n",
    "                   (<= 0 n)\n",
    "                   (rationalp u))\n",
    "              (< (* (len x) u) (+ u n 3))))"
   ]
  },
  {
   "cell_type": "markdown",
   "metadata": {},
   "source": [
    "## Insertion Sort\n",
    "We next illustrate a few theorems about sorting. The plan of the demo is as follows.\n",
    "\n",
    "- Define the Lisp functions insert and isort to do insertion sort.\n",
    "- Prove isort produces ordered output.\n",
    "- Prove isort produces a permutation of its input.\n",
    "- Define a \"buggy\" version of insert and isort.\n",
    "- Show that the buggy isort produces ordered output but not a permutation of its input.\n",
    "\n",
    "Virtually every time we introduce a function we illustrate its behavior by executing it on a few examples.\n"
   ]
  },
  {
   "cell_type": "code",
   "execution_count": 1,
   "metadata": {},
   "outputs": [
    {
     "name": "stdout",
     "output_type": "stream",
     "text": [
      "\r\n",
      "The admission of INSERT is trivial, using the relation O< (which is\r\n",
      "known to be well-founded on the domain recognized by O-P) and the measure\r\n",
      "(ACL2-COUNT X).  We observe that the type of INSERT is described by\r\n",
      "the theorem (CONSP (INSERT E X)).  We used primitive type reasoning.\r\n",
      "\r\n",
      "Summary\r\n",
      "Form:  ( DEFUN INSERT ...)\r\n",
      "Rules: ((:FAKE-RUNE-FOR-TYPE-SET NIL))\r\n",
      "Time:  0.00 seconds (prove: 0.00, print: 0.00, other: 0.00)\r\n",
      " INSERT\r\n"
     ]
    }
   ],
   "source": [
    "(defun insert (e x)\n",
    "        (cond ((endp x) (cons e x))\n",
    "              ((< e (car x)) (cons e x))\n",
    "              (t (cons (car x) (insert e (cdr x))))))"
   ]
  },
  {
   "cell_type": "markdown",
   "metadata": {},
   "source": [
    "---\n",
    "Here we illustrate an application of insert to put 3 into its proper place in the ordered list (1 2 4 5)."
   ]
  },
  {
   "cell_type": "code",
   "execution_count": 2,
   "metadata": {},
   "outputs": [
    {
     "name": "stdout",
     "output_type": "stream",
     "text": [
      "(1 2 3 4 5)\r\n"
     ]
    }
   ],
   "source": [
    "(insert 3 '(1 2 4 5))"
   ]
  },
  {
   "cell_type": "markdown",
   "metadata": {},
   "source": [
    "---\n",
    "Another recursive definition. This is the Lisp program that sorts a list of numbers using the insert function just defined."
   ]
  },
  {
   "cell_type": "code",
   "execution_count": 3,
   "metadata": {},
   "outputs": [
    {
     "name": "stdout",
     "output_type": "stream",
     "text": [
      "\r\n",
      "The admission of ISORT is trivial, using the relation O< (which is\r\n",
      "known to be well-founded on the domain recognized by O-P) and the measure\r\n",
      "(ACL2-COUNT X).  We observe that the type of ISORT is described by\r\n",
      "the theorem (OR (CONSP (ISORT X)) (EQUAL (ISORT X) NIL)).  We used\r\n",
      "the :type-prescription rule INSERT.\r\n",
      "\r\n",
      "Summary\r\n",
      "Form:  ( DEFUN ISORT ...)\r\n",
      "Rules: ((:TYPE-PRESCRIPTION INSERT))\r\n",
      "Time:  0.00 seconds (prove: 0.00, print: 0.00, other: 0.00)\r\n",
      " ISORT\r\n"
     ]
    }
   ],
   "source": [
    "(defun isort (x)\n",
    "    (if (endp x)\n",
    "        nil\n",
    "        (insert (car x)\n",
    "                (isort (cdr x)))))"
   ]
  },
  {
   "cell_type": "code",
   "execution_count": 4,
   "metadata": {},
   "outputs": [
    {
     "name": "stdout",
     "output_type": "stream",
     "text": [
      "(0 1 2 3 4 5 6 7)\r\n"
     ]
    }
   ],
   "source": [
    "(isort '(5 4 6 7 2 1 0 3))"
   ]
  },
  {
   "cell_type": "markdown",
   "metadata": {},
   "source": [
    "---\n",
    "This defines what we mean by a list being \"ordered.\""
   ]
  },
  {
   "cell_type": "code",
   "execution_count": 5,
   "metadata": {},
   "outputs": [
    {
     "name": "stdout",
     "output_type": "stream",
     "text": [
      "\r\n",
      "The admission of ORDERED is trivial, using the relation O< (which is\r\n",
      "known to be well-founded on the domain recognized by O-P) and the measure\r\n",
      "(ACL2-COUNT X).  We observe that the type of ORDERED is described by\r\n",
      "the theorem (OR (EQUAL (ORDERED X) T) (EQUAL (ORDERED X) NIL)).  \r\n",
      "\r\n",
      "Summary\r\n",
      "Form:  ( DEFUN ORDERED ...)\r\n",
      "Rules: NIL\r\n",
      "Time:  0.00 seconds (prove: 0.00, print: 0.00, other: 0.00)\r\n",
      " ORDERED\r\n"
     ]
    }
   ],
   "source": [
    "(defun ordered (x)\n",
    "    (cond ((endp x) t)\n",
    "          ((endp (cdr x)) t)\n",
    "          (t (and (<= (car x) (car (cdr x)))\n",
    "                  (ordered (cdr x))))))"
   ]
  },
  {
   "cell_type": "code",
   "execution_count": 6,
   "metadata": {},
   "outputs": [
    {
     "name": "stdout",
     "output_type": "stream",
     "text": [
      "T\r\n"
     ]
    }
   ],
   "source": [
    "(ordered '(1 2 3 4))"
   ]
  },
  {
   "cell_type": "code",
   "execution_count": 7,
   "metadata": {},
   "outputs": [
    {
     "name": "stdout",
     "output_type": "stream",
     "text": [
      "T\r\n"
     ]
    }
   ],
   "source": [
    "(ordered '(1 2 3 3 4))"
   ]
  },
  {
   "cell_type": "code",
   "execution_count": 8,
   "metadata": {},
   "outputs": [
    {
     "name": "stdout",
     "output_type": "stream",
     "text": [
      "NIL\r\n"
     ]
    }
   ],
   "source": [
    "(ordered '(1 3 2 4))"
   ]
  },
  {
   "cell_type": "markdown",
   "metadata": {},
   "source": [
    "---\n",
    "Here is our first interesting theorem: isort produces ordered output. Can you prove it? After you click on the next link, scroll through the proof using your browser's scroll buttons. We have noted, in blue, an interesting proof step made by the system.\n"
   ]
  },
  {
   "cell_type": "code",
   "execution_count": 9,
   "metadata": {},
   "outputs": [
    {
     "name": "stdout",
     "output_type": "stream",
     "text": [
      "\r\n",
      "*1 (the initial Goal, a key checkpoint) is pushed for proof by induction.\r\n",
      "\r\n",
      "Perhaps we can prove *1 by induction.  One induction scheme is suggested\r\n",
      "by this conjecture.  \r\n",
      "\r\n",
      "We will induct according to a scheme suggested by (ISORT X).  This\r\n",
      "suggestion was produced using the :induction rule ISORT.  If we let\r\n",
      "(:P X) denote *1 above then the induction scheme we'll use is\r\n",
      "(AND (IMPLIES (AND (NOT (ENDP X)) (:P (CDR X)))\r\n",
      "              (:P X))\r\n",
      "     (IMPLIES (ENDP X) (:P X))).\r\n",
      "This induction is justified by the same argument used to admit ISORT.\r\n",
      "When applied to the goal at hand the above induction scheme produces\r\n",
      "two nontautological subgoals.\r\n",
      "Subgoal *1/2\r\n",
      "Subgoal *1/2'\r\n",
      "Subgoal *1/2''\r\n",
      "Subgoal *1/2'''\r\n",
      "Subgoal *1/2'4'\r\n",
      "Subgoal *1/2'5'\r\n",
      "\r\n",
      "([ A key checkpoint while proving *1 (descended from Goal):\r\n",
      "\r\n",
      "Subgoal *1/2''\r\n",
      "(IMPLIES (AND (CONSP X)\r\n",
      "              (ORDERED (ISORT (CDR X))))\r\n",
      "         (ORDERED (INSERT (CAR X) (ISORT (CDR X)))))\r\n",
      "\r\n",
      "*1.1 (Subgoal *1/2'5') is pushed for proof by induction.\r\n",
      "\r\n",
      "])\r\n",
      "Subgoal *1/1\r\n",
      "Subgoal *1/1'\r\n",
      "\r\n",
      "So we now return to *1.1, which is\r\n",
      "\r\n",
      "(IMPLIES (ORDERED IT)\r\n",
      "         (ORDERED (INSERT X1 IT))).\r\n",
      "Subgoal *1.1/4\r\n",
      "Subgoal *1.1/4'\r\n",
      "\r\n",
      "Splitter note (see :DOC splitter) for Subgoal *1.1/4' (2 subgoals).\r\n",
      "  if-intro: ((:DEFINITION ORDERED))\r\n",
      "\r\n",
      "Subgoal *1.1/4.2\r\n",
      "Subgoal *1.1/4.1\r\n",
      "Subgoal *1.1/4.1.2\r\n",
      "Subgoal *1.1/4.1.1\r\n",
      "Subgoal *1.1/3\r\n",
      "Subgoal *1.1/3'\r\n",
      "\r\n",
      "Splitter note (see :DOC splitter) for Subgoal *1.1/3' (2 subgoals).\r\n",
      "  if-intro: ((:DEFINITION ORDERED))\r\n",
      "\r\n",
      "Subgoal *1.1/3.2\r\n",
      "Subgoal *1.1/3.1\r\n",
      "Subgoal *1.1/2\r\n",
      "Subgoal *1.1/2'\r\n",
      "\r\n",
      "Splitter note (see :DOC splitter) for Subgoal *1.1/2' (2 subgoals).\r\n",
      "  if-intro: ((:DEFINITION ORDERED))\r\n",
      "\r\n",
      "Subgoal *1.1/2.2\r\n",
      "Subgoal *1.1/2.1\r\n",
      "Subgoal *1.1/1\r\n",
      "Subgoal *1.1/1'\r\n",
      "\r\n",
      "*1.1 and *1 are COMPLETED!\r\n",
      "Thus key checkpoints Subgoal *1/2'' and Goal are COMPLETED!\r\n",
      "\r\n",
      "Q.E.D.\r\n",
      "\r\n",
      "The storage of ORDERED-ISORT depends upon the :type-prescription rule\r\n",
      "ORDERED.\r\n",
      "\r\n",
      "Summary\r\n",
      "Form:  ( DEFTHM ORDERED-ISORT ...)\r\n",
      "Rules: ((:DEFINITION ENDP)\r\n",
      "        (:DEFINITION INSERT)\r\n",
      "        (:DEFINITION ISORT)\r\n",
      "        (:DEFINITION NOT)\r\n",
      "        (:DEFINITION ORDERED)\r\n",
      "        (:ELIM CAR-CDR-ELIM)\r\n",
      "        (:EXECUTABLE-COUNTERPART ORDERED)\r\n",
      "        (:EXECUTABLE-COUNTERPART TAU-SYSTEM)\r\n",
      "        (:FAKE-RUNE-FOR-TYPE-SET NIL)\r\n",
      "        (:INDUCTION INSERT)\r\n",
      "        (:INDUCTION ISORT)\r\n",
      "        (:INDUCTION ORDERED)\r\n",
      "        (:REWRITE CAR-CONS)\r\n",
      "        (:REWRITE CDR-CONS)\r\n",
      "        (:REWRITE DEFAULT-<-1)\r\n",
      "        (:REWRITE DEFAULT-CAR)\r\n",
      "        (:TYPE-PRESCRIPTION INSERT)\r\n",
      "        (:TYPE-PRESCRIPTION ORDERED))\r\n",
      "Splitter rules (see :DOC splitter):\r\n",
      "  if-intro: ((:DEFINITION ORDERED))\r\n",
      "Time:  0.01 seconds (prove: 0.01, print: 0.00, other: 0.00)\r\n",
      "Prover steps counted:  3644\r\n",
      " ORDERED-ISORT\r\n"
     ]
    }
   ],
   "source": [
    "(defthm ordered-isort\n",
    "  (ordered (isort x)))"
   ]
  },
  {
   "cell_type": "markdown",
   "metadata": {},
   "source": [
    "---\n",
    "We cannot be sure that isort is correct just because it produces ordered output. It might always return nil!\n",
    "\n",
    "We next prove that it produces a permutation of its input.\n",
    "How would you define perm? We have already loaded a definition into the system in this session. This command will show you that definition. Read it and see whether it agrees with your ideas.\n",
    "\n",
    "(The following code is not same as the original demonstration. However, as we need to load book, I added an external book.)"
   ]
  },
  {
   "cell_type": "code",
   "execution_count": 10,
   "metadata": {},
   "outputs": [
    {
     "name": "stdout",
     "output_type": "stream",
     "text": [
      "\r\n",
      "Summary\r\n",
      "Form:  ( INCLUDE-BOOK \"isort\" ...)\r\n",
      "Rules: NIL\r\n",
      "Time:  0.00 seconds (prove: 0.00, print: 0.00, other: 0.00)\r\n",
      " \"/home/masaya/Documents/acl2-kernel/isort.lisp\"\r\n"
     ]
    }
   ],
   "source": [
    ";(certify-book \"isort\")\n",
    "(include-book \"isort\")"
   ]
  },
  {
   "cell_type": "markdown",
   "metadata": {},
   "source": [
    "---\n",
    "This strange output means that the definition of perm was contained in a book called \"isort\" which was included as the second command in the session. (That command happened before the demo began.)\n",
    "\n",
    "To read the definition above, think of it trying to determine whether x is a permutation of y. If x is a cons, then the first element of x must be a member of y and the rest of x must be a permutation of the result of deleting the first element of x from y. If, on the other hand, x is not a cons, i.e., if x is empty, then y must be empty also.\n",
    "\n"
   ]
  },
  {
   "cell_type": "code",
   "execution_count": 11,
   "metadata": {
    "scrolled": false
   },
   "outputs": [
    {
     "name": "stdout",
     "output_type": "stream",
     "text": [
      "           5:x(INCLUDE-BOOK \"isort\")\r\n",
      "              \\\r\n",
      "              [Included books, outermost to innermost:\r\n",
      "               \"/home/masaya/Documents/acl2-kernel/isort.lisp\"\r\n",
      "              ]\r\n",
      "              \\\r\n",
      ">L             (DEFUN PERM (X Y)\r\n",
      "                      (IF (CONSP X)\r\n",
      "                          (AND (MEM (CAR X) Y)\r\n",
      "                               (PERM (CDR X) (DEL (CAR X) Y)))\r\n",
      "                          (NOT (CONSP Y))))\r\n"
     ]
    }
   ],
   "source": [
    "(pe 'perm)"
   ]
  },
  {
   "cell_type": "code",
   "execution_count": 12,
   "metadata": {},
   "outputs": [
    {
     "name": "stdout",
     "output_type": "stream",
     "text": [
      "T\r\n"
     ]
    }
   ],
   "source": [
    "(perm '(1 2 3 3 4) '(4 3 1 2 3))"
   ]
  },
  {
   "cell_type": "code",
   "execution_count": 13,
   "metadata": {},
   "outputs": [
    {
     "name": "stdout",
     "output_type": "stream",
     "text": [
      "NIL\r\n"
     ]
    }
   ],
   "source": [
    "(perm '(1 2 3 3 4) '(4 3 1 2 2))"
   ]
  },
  {
   "cell_type": "code",
   "execution_count": 14,
   "metadata": {},
   "outputs": [
    {
     "name": "stdout",
     "output_type": "stream",
     "text": [
      "\r\n",
      "*1 (the initial Goal, a key checkpoint) is pushed for proof by induction.\r\n",
      "\r\n",
      "Perhaps we can prove *1 by induction.  One induction scheme is suggested\r\n",
      "by this conjecture.  \r\n",
      "\r\n",
      "We will induct according to a scheme suggested by (PERM X X).  This\r\n",
      "suggestion was produced using the :induction rule PERM.  If we let\r\n",
      "(:P X) denote *1 above then the induction scheme we'll use is\r\n",
      "(AND (IMPLIES (NOT (CONSP X)) (:P X))\r\n",
      "     (IMPLIES (AND (CONSP X) (NOT (MEM (CAR X) X)))\r\n",
      "              (:P X))\r\n",
      "     (IMPLIES (AND (CONSP X)\r\n",
      "                   (MEM (CAR X) X)\r\n",
      "                   (:P (CDR X)))\r\n",
      "              (:P X))).\r\n",
      "This induction is justified by the same argument used to admit PERM.\r\n",
      "When applied to the goal at hand the above induction scheme produces\r\n",
      "three nontautological subgoals.\r\n",
      "Subgoal *1/3\r\n",
      "Subgoal *1/2\r\n",
      "Subgoal *1/2'\r\n",
      "Subgoal *1/1\r\n",
      "Subgoal *1/1'\r\n",
      "\r\n",
      "*1 is COMPLETED!\r\n",
      "Thus key checkpoint Goal is COMPLETED!\r\n",
      "\r\n",
      "Q.E.D.\r\n",
      "\r\n",
      "Summary\r\n",
      "Form:  ( THM ...)\r\n",
      "Rules: ((:DEFINITION DEL)\r\n",
      "        (:DEFINITION MEM)\r\n",
      "        (:DEFINITION MEMBER-EQUAL)\r\n",
      "        (:DEFINITION NOT)\r\n",
      "        (:DEFINITION PERM)\r\n",
      "        (:FAKE-RUNE-FOR-TYPE-SET NIL)\r\n",
      "        (:INDUCTION PERM)\r\n",
      "        (:TYPE-PRESCRIPTION PERM))\r\n",
      "Time:  0.00 seconds (prove: 0.00, print: 0.00, other: 0.00)\r\n",
      "Prover steps counted:  328\r\n",
      "\r\n",
      "Proof succeeded.\r\n"
     ]
    }
   ],
   "source": [
    "(thm (perm x x))"
   ]
  },
  {
   "cell_type": "code",
   "execution_count": 27,
   "metadata": {},
   "outputs": [
    {
     "name": "stdout",
     "output_type": "stream",
     "text": [
      "Goal'\r\n",
      "\r\n",
      "Splitter note (see :DOC splitter) for Goal' (2 subgoals).\r\n",
      "  if-intro: ((:DEFINITION MEM) (:DEFINITION PERM))\r\n",
      "\r\n",
      "Subgoal 2\r\n",
      "\r\n",
      "([ A key checkpoint:\r\n",
      "\r\n",
      "Goal\r\n",
      "(IMPLIES (CONSP X)\r\n",
      "         (PERM X (INSERT (CAR X) (CDR X))))\r\n",
      "\r\n",
      "Normally we would attempt to prove Subgoal 2 by induction.  However,\r\n",
      "we prefer in this instance to focus on the original input conjecture\r\n",
      "rather than this simplified special case.  We therefore abandon our\r\n",
      "previous work on this conjecture and reassign the name *1 to the original\r\n",
      "conjecture.  (See :DOC otf-flg.)\r\n",
      "\r\n",
      "])\r\n",
      "\r\n",
      "Perhaps we can prove *1 by induction.  One induction scheme is suggested\r\n",
      "by this conjecture.  \r\n",
      "\r\n",
      "We will induct according to a scheme suggested by \r\n",
      "(PERM X (INSERT (CAR X) (CDR X))).  This suggestion was produced using\r\n",
      "the :induction rule PERM.  If we let (:P X) denote *1 above then the\r\n",
      "induction scheme we'll use is\r\n",
      "(AND (IMPLIES (NOT (CONSP X)) (:P X))\r\n",
      "     (IMPLIES (AND (CONSP X)\r\n",
      "                   (NOT (MEM (CAR X) (INSERT (CAR X) (CDR X)))))\r\n",
      "              (:P X))\r\n",
      "     (IMPLIES (AND (CONSP X)\r\n",
      "                   (MEM (CAR X) (INSERT (CAR X) (CDR X)))\r\n",
      "                   (:P (CDR X)))\r\n",
      "              (:P X))).\r\n",
      "This induction is justified by the same argument used to admit PERM.\r\n",
      "When applied to the goal at hand the above induction scheme produces\r\n",
      "two nontautological subgoals.\r\n",
      "Subgoal *1/2\r\n",
      "Subgoal *1/2'\r\n",
      "Subgoal *1/2''\r\n",
      "Subgoal *1/2'''\r\n",
      "Subgoal *1/2'4'\r\n",
      "\r\n",
      "([ A key checkpoint while proving *1 (descended from Goal):\r\n",
      "\r\n",
      "Subgoal *1/2''\r\n",
      "(IMPLIES (CONSP X)\r\n",
      "         (MEMBER-EQUAL (CAR X)\r\n",
      "                       (INSERT (CAR X) (CDR X))))\r\n",
      "\r\n",
      "*1.1 (Subgoal *1/2'4') is pushed for proof by induction.\r\n",
      "\r\n",
      "])\r\n",
      "Subgoal *1/1\r\n",
      "Subgoal *1/1'\r\n",
      "\r\n",
      "Splitter note (see :DOC splitter) for Subgoal *1/1' (2 subgoals).\r\n",
      "  if-intro: ((:DEFINITION INSERT)\r\n",
      "             (:DEFINITION PERM))\r\n",
      "\r\n",
      "Subgoal *1/1.2\r\n",
      "Subgoal *1/1.2'\r\n",
      "Subgoal *1/1.2''\r\n",
      "Subgoal *1/1.2'''\r\n",
      "Subgoal *1/1.2'4'\r\n",
      "\r\n",
      "([ A key checkpoint while proving *1 (descended from Goal):\r\n",
      "\r\n",
      "Subgoal *1/1.2'\r\n",
      "(IMPLIES (AND (CONSP X)\r\n",
      "              (CONSP (CDR X))\r\n",
      "              (<= (CADR X) (CAR X))\r\n",
      "              (NOT (EQUAL (CAR X) (CADR X)))\r\n",
      "              (MEMBER-EQUAL (CAR X)\r\n",
      "                            (INSERT (CAR X) (CDDR X)))\r\n",
      "              (PERM (CDR X)\r\n",
      "                    (INSERT (CADR X) (CDDR X))))\r\n",
      "         (PERM X\r\n",
      "               (CONS (CADR X)\r\n",
      "                     (INSERT (CAR X) (CDDR X)))))\r\n",
      "\r\n",
      "*1.2 (Subgoal *1/1.2'4') is pushed for proof by induction.\r\n",
      "\r\n",
      "])\r\n",
      "Subgoal *1/1.1\r\n",
      "Subgoal *1/1.1'\r\n",
      "Subgoal *1/1.1''\r\n",
      "Subgoal *1/1.1'''\r\n",
      "Subgoal *1/1.1'4'\r\n",
      "\r\n",
      "([ A key checkpoint while proving *1 (descended from Goal):\r\n",
      "\r\n",
      "Subgoal *1/1.1'\r\n",
      "(IMPLIES (AND (CONSP X)\r\n",
      "              (< (CAR X) (CADR X))\r\n",
      "              (PERM (CDR X)\r\n",
      "                    (INSERT (CADR X) (CDDR X)))\r\n",
      "              (CONSP (CDR X)))\r\n",
      "         (PERM (CDDR X) (CDDR X)))\r\n",
      "\r\n",
      "*1.3 (Subgoal *1/1.1'4') is pushed for proof by induction.\r\n",
      "\r\n",
      "])\r\n",
      "\r\n",
      "So we now return to *1.3, which is\r\n",
      "\r\n",
      "(IMPLIES (AND (CONSP L)\r\n",
      "              (< X1 X3)\r\n",
      "              (MEMBER-EQUAL X3 L)\r\n",
      "              (PERM X4 (DEL X3 L)))\r\n",
      "         (PERM X4 X4)).\r\n",
      "Subgoal *1.3/4\r\n",
      "Subgoal *1.3/3\r\n",
      "Subgoal *1.3/3'\r\n",
      "Subgoal *1.3/2\r\n",
      "Subgoal *1.3/2'\r\n",
      "Subgoal *1.3/1\r\n",
      "Subgoal *1.3/1'\r\n",
      "Subgoal *1.3/1''\r\n",
      "Subgoal *1.3/1'''\r\n",
      "Subgoal *1.3/1'4'\r\n",
      "Subgoal *1.3/1'5'\r\n",
      "\r\n",
      "*1.3.1 (Subgoal *1.3/1'5') is pushed for proof by induction.\r\n",
      "\r\n",
      "So we now return to *1.3.1, which is\r\n",
      "\r\n",
      "(IMPLIES (AND (NOT (PERM X6 DL))\r\n",
      "              (CONSP L)\r\n",
      "              (< X1 X3)\r\n",
      "              (MEMBER-EQUAL X3 L)\r\n",
      "              (MEMBER-EQUAL X5 DL)\r\n",
      "              (PERM X6 (DEL X5 DL)))\r\n",
      "         (PERM X6 X6)).\r\n",
      "Subgoal *1.3.1/6\r\n",
      "Subgoal *1.3.1/5\r\n",
      "Subgoal *1.3.1/5'\r\n",
      "Subgoal *1.3.1/4\r\n",
      "Subgoal *1.3.1/4'\r\n",
      "Subgoal *1.3.1/3\r\n",
      "Subgoal *1.3.1/3'\r\n",
      "\r\n",
      "Splitter note (see :DOC splitter) for Subgoal *1.3.1/3' (2 subgoals).\r\n",
      "  if-intro: ((:DEFINITION MEM) (:DEFINITION PERM))\r\n",
      "\r\n",
      "Subgoal *1.3.1/3.2\r\n",
      "Subgoal *1.3.1/3.2'\r\n",
      "Subgoal *1.3.1/3.2''\r\n",
      "Subgoal *1.3.1/3.2'''\r\n",
      "\r\n",
      "*1.3.1.1 (Subgoal *1.3.1/3.2''') is pushed for proof by induction.\r\n",
      "Subgoal *1.3.1/3.1\r\n",
      "Subgoal *1.3.1/3.1'\r\n",
      "Subgoal *1.3.1/3.1''\r\n",
      "Subgoal *1.3.1/3.1'''\r\n",
      "\r\n",
      "*1.3.1.2 (Subgoal *1.3.1/3.1''') is pushed for proof by induction.\r\n",
      "Subgoal *1.3.1/2\r\n",
      "Subgoal *1.3.1/2'\r\n",
      "\r\n",
      "Splitter note (see :DOC splitter) for Subgoal *1.3.1/2' (2 subgoals).\r\n",
      "  if-intro: ((:DEFINITION MEM) (:DEFINITION PERM))\r\n",
      "\r\n",
      "Subgoal *1.3.1/2.2\r\n",
      "Subgoal *1.3.1/2.2'\r\n",
      "Subgoal *1.3.1/2.2''\r\n",
      "Subgoal *1.3.1/2.2'''\r\n",
      "\r\n",
      "*1.3.1.3 (Subgoal *1.3.1/2.2''') is pushed for proof by induction.\r\n",
      "Subgoal *1.3.1/2.1\r\n",
      "Subgoal *1.3.1/2.1'\r\n",
      "Subgoal *1.3.1/2.1''\r\n",
      "Subgoal *1.3.1/2.1'''\r\n",
      "\r\n",
      "*1.3.1.4 (Subgoal *1.3.1/2.1''') is pushed for proof by induction.\r\n",
      "Subgoal *1.3.1/1\r\n",
      "Subgoal *1.3.1/1'\r\n",
      "Subgoal *1.3.1/1''\r\n",
      "Subgoal *1.3.1/1'''\r\n",
      "Subgoal *1.3.1/1'4'\r\n",
      "Subgoal *1.3.1/1'5'\r\n",
      "\r\n",
      "*1.3.1.5 (Subgoal *1.3.1/1'5') is pushed for proof by induction.\r\n",
      "\r\n",
      "So we now return to *1.3.1.5, which is\r\n",
      "\r\n",
      "(IMPLIES (AND (PERM X8 (DEL X7 DL))\r\n",
      "              (NOT (MEMBER-EQUAL X7 DL))\r\n",
      "              (CONSP L)\r\n",
      "              (< X1 X3)\r\n",
      "              (MEMBER-EQUAL X3 L)\r\n",
      "              (MEMBER-EQUAL X5 DL)\r\n",
      "              (MEMBER-EQUAL X7 DL0)\r\n",
      "              (PERM X8 (DEL X7 DL0)))\r\n",
      "         (PERM X8 X8)).\r\n",
      "Subgoal *1.3.1.5/5\r\n",
      "Subgoal *1.3.1.5/4\r\n",
      "Subgoal *1.3.1.5/4'\r\n",
      "Subgoal *1.3.1.5/3\r\n",
      "Subgoal *1.3.1.5/3'\r\n",
      "Subgoal *1.3.1.5/2\r\n",
      "Subgoal *1.3.1.5/2'\r\n",
      "Subgoal *1.3.1.5/2''\r\n",
      "Subgoal *1.3.1.5/2'''\r\n",
      "Subgoal *1.3.1.5/2'4'\r\n",
      "Subgoal *1.3.1.5/2'5'\r\n",
      "\r\n",
      "*1.3.1.5.1 (Subgoal *1.3.1.5/2'5') is pushed for proof by induction.\r\n",
      "Subgoal *1.3.1.5/1\r\n",
      "Subgoal *1.3.1.5/1'\r\n",
      "Subgoal *1.3.1.5/1''\r\n",
      "Subgoal *1.3.1.5/1'''\r\n",
      "Subgoal *1.3.1.5/1'4'\r\n",
      "Subgoal *1.3.1.5/1'5'\r\n",
      "\r\n",
      "*1.3.1.5.2 (Subgoal *1.3.1.5/1'5') is pushed for proof by induction.\r\n",
      "\r\n",
      "So we now return to *1.3.1.5.2, which is\r\n",
      "\r\n",
      "(IMPLIES (AND (NOT (PERM X10 DL2))\r\n",
      "              (MEMBER-EQUAL X9 DL2)\r\n",
      "              (PERM X10 (DEL X9 DL2))\r\n",
      "              (NOT (MEMBER-EQUAL X7 DL))\r\n",
      "              (CONSP L)\r\n",
      "              (< X1 X3)\r\n",
      "              (MEMBER-EQUAL X3 L)\r\n",
      "              (MEMBER-EQUAL X5 DL)\r\n",
      "              (MEMBER-EQUAL X7 DL0)\r\n",
      "              (MEMBER-EQUAL X9 DL1)\r\n",
      "              (PERM X10 (DEL X9 DL1)))\r\n",
      "         (PERM X10 X10)).\r\n",
      "\r\n",
      "But the formula above is subsumed by *1.3.1.5.1, which we'll try to\r\n",
      "prove later.  We therefore regard *1.3.1.5.2 as proved (pending the\r\n",
      "proof of the more general *1.3.1.5.1).\r\n",
      "\r\n",
      "We next consider *1.3.1.5.1, which is\r\n",
      "\r\n",
      "(IMPLIES (AND (NOT (PERM X10 DL2))\r\n",
      "              (MEMBER-EQUAL X9 DL1)\r\n",
      "              (PERM X10 (DEL X9 DL1))\r\n",
      "              (NOT (MEMBER-EQUAL X7 DL))\r\n",
      "              (CONSP L)\r\n",
      "              (< X1 X3)\r\n",
      "              (MEMBER-EQUAL X3 L)\r\n",
      "              (MEMBER-EQUAL X5 DL)\r\n",
      "              (MEMBER-EQUAL X7 DL0)\r\n",
      "              (MEMBER-EQUAL X9 DL2)\r\n",
      "              (PERM X10 (DEL X9 DL2)))\r\n",
      "         (PERM X10 X10)).\r\n",
      "\r\n",
      "The formula above is subsumed by one of its parents, *1.3.1, which\r\n",
      "we're in the process of trying to prove by induction.  When an inductive\r\n",
      "proof pushes a subgoal for induction that is less general than the\r\n",
      "original goal, it may be a sign that either an inappropriate induction\r\n",
      "was chosen or that the original goal is insufficiently general.  In\r\n",
      "any case, our proof attempt has failed.\r\n",
      "\r\n",
      "Summary\r\n",
      "Form:  ( THM ...)\r\n",
      "Rules: ((:DEFINITION DEL)\r\n",
      "        (:DEFINITION INSERT)\r\n",
      "        (:DEFINITION MEM)\r\n",
      "        (:DEFINITION MEMBER-EQUAL)\r\n",
      "        (:DEFINITION NOT)\r\n",
      "        (:DEFINITION PERM)\r\n",
      "        (:ELIM CAR-CDR-ELIM)\r\n",
      "        (:FAKE-RUNE-FOR-TYPE-SET NIL)\r\n",
      "        (:INDUCTION PERM)\r\n",
      "        (:REWRITE CAR-CONS)\r\n",
      "        (:REWRITE CDR-CONS)\r\n",
      "        (:REWRITE CONS-CAR-CDR)\r\n",
      "        (:TYPE-PRESCRIPTION INSERT)\r\n",
      "        (:TYPE-PRESCRIPTION MEMBER-EQUAL)\r\n",
      "        (:TYPE-PRESCRIPTION PERM))\r\n",
      "Splitter rules (see :DOC splitter):\r\n",
      "  if-intro: ((:DEFINITION INSERT)\r\n",
      "             (:DEFINITION MEM)\r\n",
      "             (:DEFINITION PERM))\r\n",
      "Time:  0.06 seconds (prove: 0.06, print: 0.00, other: 0.00)\r\n",
      "Prover steps counted:  33784\r\n",
      "\r\n",
      "---\r\n",
      "The key checkpoint goals, below, may help you to debug this failure.\r\n",
      "See :DOC failure and see :DOC set-checkpoint-summary-limit.\r\n",
      "---\r\n",
      "\r\n",
      "*** Key checkpoint before reverting to proof by induction: ***\r\n",
      "\r\n",
      "Goal\r\n",
      "(IMPLIES (CONSP X)\r\n",
      "         (PERM X (INSERT (CAR X) (CDR X))))\r\n",
      "\r\n",
      "*** Key checkpoints under a top-level induction: ***\r\n",
      "\r\n",
      "Subgoal *1/2''\r\n",
      "(IMPLIES (CONSP X)\r\n",
      "         (MEMBER-EQUAL (CAR X)\r\n",
      "                       (INSERT (CAR X) (CDR X))))\r\n",
      "\r\n",
      "Subgoal *1/1.2'\r\n",
      "(IMPLIES (AND (CONSP X)\r\n",
      "              (CONSP (CDR X))\r\n",
      "              (<= (CADR X) (CAR X))\r\n",
      "              (NOT (EQUAL (CAR X) (CADR X)))\r\n",
      "              (MEMBER-EQUAL (CAR X)\r\n",
      "                            (INSERT (CAR X) (CDDR X)))\r\n",
      "              (PERM (CDR X)\r\n",
      "                    (INSERT (CADR X) (CDDR X))))\r\n",
      "         (PERM X\r\n",
      "               (CONS (CADR X)\r\n",
      "                     (INSERT (CAR X) (CDDR X)))))\r\n",
      "\r\n",
      "Subgoal *1/1.1'\r\n",
      "(IMPLIES (AND (CONSP X)\r\n",
      "              (< (CAR X) (CADR X))\r\n",
      "              (PERM (CDR X)\r\n",
      "                    (INSERT (CADR X) (CDDR X)))\r\n",
      "              (CONSP (CDR X)))\r\n",
      "         (PERM (CDDR X) (CDDR X)))\r\n",
      "\r\n",
      "ACL2 Error in ( THM ...):  See :DOC failure.\r\n",
      "\r\n",
      "******** FAILED ********\r\n"
     ]
    }
   ],
   "source": [
    "(thm (implies (consp x) (perm x (insert (car x) (cdr x)))))"
   ]
  },
  {
   "cell_type": "code",
   "execution_count": null,
   "metadata": {},
   "outputs": [],
   "source": []
  }
 ],
 "metadata": {
  "kernelspec": {
   "display_name": "ACL2",
   "language": "acl2",
   "name": "acl2"
  },
  "language_info": {
   "codemirror_mode": "lisp",
   "file_extension": ".acl2",
   "mimetype": "text/x-lisp",
   "name": "acl2"
  }
 },
 "nbformat": 4,
 "nbformat_minor": 4
}
