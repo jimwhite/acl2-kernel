{
 "cells": [
  {
   "cell_type": "markdown",
   "metadata": {},
   "source": [
    "# Flying Demo\n",
    "\n",
    "This notebook is a demonstration for http://www.cs.utexas.edu/users/moore/publications/flying-demo/script.html\n",
    "\n",
    "Jupyter Kernel is [acl2-kernel](https://github.com/tani/acl2-kernel) written by TANIGUCHI Masaya.\n",
    "\n",
    "## Instruction\n",
    "\n",
    "1. Requirements\n",
    "    - ACL2 (version 8.2, or later)\n",
    "    - Python 3 (version 3.6 or later)\n",
    "2. Libraries: Install Jupyter environment\n",
    "  ```bash\n",
    "  $ pip install jupyter acl2-kernel\n",
    "  ```\n",
    "3. Usage: Launch Jupyter server\n",
    "  ```\n",
    "  $ jupyter notebook\n",
    "  ```\n",
    "4. After launching server, you can create new notebook!\n"
   ]
  },
  {
   "cell_type": "markdown",
   "metadata": {},
   "source": [
    "## Introduction\n",
    "\n",
    "We assume you know enough Lisp to evaluate this expression. What is its value? The function cons constructs an ordered pair of its two arguments. The function car returns the first component of an ordered pair; cdr, not used here, returns the other component. The function equal returns T or NIL (true or false) according to whether its two arguments are the same object."
   ]
  },
  {
   "cell_type": "code",
   "execution_count": 1,
   "metadata": {},
   "outputs": [
    {
     "name": "stdout",
     "output_type": "stream",
     "text": [
      "7\r\n"
     ]
    }
   ],
   "source": [
    "(+ 3 4)"
   ]
  },
  {
   "cell_type": "code",
   "execution_count": 2,
   "metadata": {},
   "outputs": [
    {
     "name": "stdout",
     "output_type": "stream",
     "text": [
      "T\r\n"
     ]
    }
   ],
   "source": [
    "(equal (car (cons 1 '(2 3 4))) 1)"
   ]
  },
  {
   "cell_type": "markdown",
   "metadata": {},
   "source": [
    "---\n",
    "This is a command to prove the indicated theorem. The theorem states that the car of the cons of two things is the first one. If you click on the link you will see ACL2 prove this.\n",
    "\n",
    "As you can see, ACL2's \"proofs\" are really descriptions of proofs or proof sketches, not formal mathematical proofs. But if ACL2 prints the \"Q.E.D.\" then it has confirmed (behind the scenes) that a formal proof exists. ACL2 contains a lot of decision procedures and powerful simplification techniques. So it is not always obvious how the system gets from one goal to the next. Note the time taken to do the proof."
   ]
  },
  {
   "cell_type": "code",
   "execution_count": 3,
   "metadata": {
    "scrolled": true
   },
   "outputs": [
    {
     "name": "stdout",
     "output_type": "stream",
     "text": [
      "\r\n",
      "Q.E.D.\r\n",
      "\r\n",
      "Summary\r\n",
      "Form:  ( THM ...)\r\n",
      "Rules: ((:REWRITE CAR-CONS))\r\n",
      "Time:  0.00 seconds (prove: 0.00, print: 0.00, other: 0.00)\r\n",
      "Prover steps counted:  7\r\n",
      "\r\n",
      "Proof succeeded.\r\n"
     ]
    }
   ],
   "source": [
    "(thm (equal (car (cons x y)) x))"
   ]
  },
  {
   "cell_type": "markdown",
   "metadata": {},
   "source": [
    "---\n",
    "The function endp recognizes the empty list."
   ]
  },
  {
   "cell_type": "code",
   "execution_count": 4,
   "metadata": {
    "scrolled": true
   },
   "outputs": [
    {
     "name": "stdout",
     "output_type": "stream",
     "text": [
      "T\r\n"
     ]
    }
   ],
   "source": [
    "(endp nil)"
   ]
  },
  {
   "cell_type": "markdown",
   "metadata": {},
   "source": [
    "---\n",
    "NIL is the symbol used by Lisp and ACL2 to denote the \"false\" truthvalue. NIL is also the \"empty list.\" T denotes the \"true\" truthvalue. Case is unimportant here. So nil and NIL are the same thing."
   ]
  },
  {
   "cell_type": "code",
   "execution_count": 5,
   "metadata": {
    "scrolled": true
   },
   "outputs": [
    {
     "name": "stdout",
     "output_type": "stream",
     "text": [
      "NIL\r\n"
     ]
    }
   ],
   "source": [
    "(endp '(1 2 3 4))"
   ]
  },
  {
   "cell_type": "markdown",
   "metadata": {},
   "source": [
    "---\n",
    "Another simple theorem. Think about the proof. Then click on the link and see if you understand ACL2's proof.\n",
    "When you click, the proof may overflow your browser's window. If so, scroll down to the next command prompt using your browser's scroll buttons. We recommend against using the slide bar!\n"
   ]
  },
  {
   "cell_type": "code",
   "execution_count": 1,
   "metadata": {
    "scrolled": true
   },
   "outputs": [
    {
     "name": "stdout",
     "output_type": "stream",
     "text": [
      "Goal'\r\n",
      "Goal''\r\n",
      "\r\n",
      "Q.E.D.\r\n",
      "\r\n",
      "Summary\r\n",
      "Form:  ( THM ...)\r\n",
      "Rules: ((:DEFINITION ENDP)\r\n",
      "        (:DEFINITION FIX)\r\n",
      "        (:DEFINITION LEN)\r\n",
      "        (:DEFINITION NOT)\r\n",
      "        (:EXECUTABLE-COUNTERPART BINARY-+)\r\n",
      "        (:EXECUTABLE-COUNTERPART TAU-SYSTEM)\r\n",
      "        (:REWRITE COMMUTATIVITY-2-OF-+)\r\n",
      "        (:REWRITE COMMUTATIVITY-OF-+)\r\n",
      "        (:REWRITE UNICITY-OF-1))\r\n",
      "Time:  0.00 seconds (prove: 0.00, print: 0.00, other: 0.00)\r\n",
      "Prover steps counted:  212\r\n",
      "\r\n",
      "Proof succeeded.\r\n"
     ]
    }
   ],
   "source": [
    "(thm (implies (and (not (endp x))\n",
    "                   (endp (cdr x))\n",
    "                   (integerp n)\n",
    "                   (<= 0 n)\n",
    "                   (rationalp u))\n",
    "              (< (* (len x) u) (+ u n 3))))"
   ]
  },
  {
   "cell_type": "markdown",
   "metadata": {},
   "source": [
    "## Insertion Sort\n",
    "We next illustrate a few theorems about sorting. The plan of the demo is as follows.\n",
    "\n",
    "- Define the Lisp functions insert and isort to do insertion sort.\n",
    "- Prove isort produces ordered output.\n",
    "- Prove isort produces a permutation of its input.\n",
    "- Define a \"buggy\" version of insert and isort.\n",
    "- Show that the buggy isort produces ordered output but not a permutation of its input.\n",
    "\n",
    "Virtually every time we introduce a function we illustrate its behavior by executing it on a few examples.\n"
   ]
  },
  {
   "cell_type": "code",
   "execution_count": 1,
   "metadata": {},
   "outputs": [
    {
     "name": "stdout",
     "output_type": "stream",
     "text": [
      "\r\n",
      "The admission of INSERT is trivial, using the relation O< (which is\r\n",
      "known to be well-founded on the domain recognized by O-P) and the measure\r\n",
      "(ACL2-COUNT X).  We observe that the type of INSERT is described by\r\n",
      "the theorem (CONSP (INSERT E X)).  We used primitive type reasoning.\r\n",
      "\r\n",
      "Summary\r\n",
      "Form:  ( DEFUN INSERT ...)\r\n",
      "Rules: ((:FAKE-RUNE-FOR-TYPE-SET NIL))\r\n",
      "Time:  0.00 seconds (prove: 0.00, print: 0.00, other: 0.00)\r\n",
      " INSERT\r\n"
     ]
    }
   ],
   "source": [
    "(defun insert (e x)\n",
    "        (cond ((endp x) (cons e x))\n",
    "              ((< e (car x)) (cons e x))\n",
    "              (t (cons (car x) (insert e (cdr x))))))"
   ]
  },
  {
   "cell_type": "markdown",
   "metadata": {},
   "source": [
    "---\n",
    "Here we illustrate an application of insert to put 3 into its proper place in the ordered list (1 2 4 5)."
   ]
  },
  {
   "cell_type": "code",
   "execution_count": 2,
   "metadata": {},
   "outputs": [
    {
     "name": "stdout",
     "output_type": "stream",
     "text": [
      "(1 2 3 4 5)\r\n"
     ]
    }
   ],
   "source": [
    "(insert 3 '(1 2 4 5))"
   ]
  },
  {
   "cell_type": "markdown",
   "metadata": {},
   "source": [
    "---\n",
    "Another recursive definition. This is the Lisp program that sorts a list of numbers using the insert function just defined."
   ]
  },
  {
   "cell_type": "code",
   "execution_count": 3,
   "metadata": {},
   "outputs": [
    {
     "name": "stdout",
     "output_type": "stream",
     "text": [
      "\r\n",
      "The admission of ISORT is trivial, using the relation O< (which is\r\n",
      "known to be well-founded on the domain recognized by O-P) and the measure\r\n",
      "(ACL2-COUNT X).  We observe that the type of ISORT is described by\r\n",
      "the theorem (OR (CONSP (ISORT X)) (EQUAL (ISORT X) NIL)).  We used\r\n",
      "the :type-prescription rule INSERT.\r\n",
      "\r\n",
      "Summary\r\n",
      "Form:  ( DEFUN ISORT ...)\r\n",
      "Rules: ((:TYPE-PRESCRIPTION INSERT))\r\n",
      "Time:  0.00 seconds (prove: 0.00, print: 0.00, other: 0.00)\r\n",
      " ISORT\r\n"
     ]
    }
   ],
   "source": [
    "(defun isort (x)\n",
    "    (if (endp x)\n",
    "        nil\n",
    "        (insert (car x)\n",
    "                (isort (cdr x)))))"
   ]
  },
  {
   "cell_type": "code",
   "execution_count": 4,
   "metadata": {},
   "outputs": [
    {
     "name": "stdout",
     "output_type": "stream",
     "text": [
      "(0 1 2 3 4 5 6 7)\r\n"
     ]
    }
   ],
   "source": [
    "(isort '(5 4 6 7 2 1 0 3))"
   ]
  },
  {
   "cell_type": "markdown",
   "metadata": {},
   "source": [
    "---\n",
    "This defines what we mean by a list being \"ordered.\""
   ]
  },
  {
   "cell_type": "code",
   "execution_count": 5,
   "metadata": {},
   "outputs": [
    {
     "name": "stdout",
     "output_type": "stream",
     "text": [
      "\r\n",
      "The admission of ORDERED is trivial, using the relation O< (which is\r\n",
      "known to be well-founded on the domain recognized by O-P) and the measure\r\n",
      "(ACL2-COUNT X).  We observe that the type of ORDERED is described by\r\n",
      "the theorem (OR (EQUAL (ORDERED X) T) (EQUAL (ORDERED X) NIL)).  \r\n",
      "\r\n",
      "Summary\r\n",
      "Form:  ( DEFUN ORDERED ...)\r\n",
      "Rules: NIL\r\n",
      "Time:  0.00 seconds (prove: 0.00, print: 0.00, other: 0.00)\r\n",
      " ORDERED\r\n"
     ]
    }
   ],
   "source": [
    "(defun ordered (x)\n",
    "    (cond ((endp x) t)\n",
    "          ((endp (cdr x)) t)\n",
    "          (t (and (<= (car x) (car (cdr x)))\n",
    "                  (ordered (cdr x))))))"
   ]
  },
  {
   "cell_type": "code",
   "execution_count": 6,
   "metadata": {},
   "outputs": [
    {
     "name": "stdout",
     "output_type": "stream",
     "text": [
      "T\r\n"
     ]
    }
   ],
   "source": [
    "(ordered '(1 2 3 4))"
   ]
  },
  {
   "cell_type": "code",
   "execution_count": 7,
   "metadata": {},
   "outputs": [
    {
     "name": "stdout",
     "output_type": "stream",
     "text": [
      "T\r\n"
     ]
    }
   ],
   "source": [
    "(ordered '(1 2 3 3 4))"
   ]
  },
  {
   "cell_type": "code",
   "execution_count": 8,
   "metadata": {},
   "outputs": [
    {
     "name": "stdout",
     "output_type": "stream",
     "text": [
      "NIL\r\n"
     ]
    }
   ],
   "source": [
    "(ordered '(1 3 2 4))"
   ]
  },
  {
   "cell_type": "markdown",
   "metadata": {},
   "source": [
    "---\n",
    "Here is our first interesting theorem: isort produces ordered output. Can you prove it? After you click on the next link, scroll through the proof using your browser's scroll buttons. We have noted, in blue, an interesting proof step made by the system.\n"
   ]
  },
  {
   "cell_type": "code",
   "execution_count": 9,
   "metadata": {},
   "outputs": [
    {
     "name": "stdout",
     "output_type": "stream",
     "text": [
      "\r\n",
      "*1 (the initial Goal, a key checkpoint) is pushed for proof by induction.\r\n",
      "\r\n",
      "Perhaps we can prove *1 by induction.  One induction scheme is suggested\r\n",
      "by this conjecture.  \r\n",
      "\r\n",
      "We will induct according to a scheme suggested by (ISORT X).  This\r\n",
      "suggestion was produced using the :induction rule ISORT.  If we let\r\n",
      "(:P X) denote *1 above then the induction scheme we'll use is\r\n",
      "(AND (IMPLIES (AND (NOT (ENDP X)) (:P (CDR X)))\r\n",
      "              (:P X))\r\n",
      "     (IMPLIES (ENDP X) (:P X))).\r\n",
      "This induction is justified by the same argument used to admit ISORT.\r\n",
      "When applied to the goal at hand the above induction scheme produces\r\n",
      "two nontautological subgoals.\r\n",
      "Subgoal *1/2\r\n",
      "Subgoal *1/2'\r\n",
      "Subgoal *1/2''\r\n",
      "Subgoal *1/2'''\r\n",
      "Subgoal *1/2'4'\r\n",
      "Subgoal *1/2'5'\r\n",
      "\r\n",
      "([ A key checkpoint while proving *1 (descended from Goal):\r\n",
      "\r\n",
      "Subgoal *1/2''\r\n",
      "(IMPLIES (AND (CONSP X)\r\n",
      "              (ORDERED (ISORT (CDR X))))\r\n",
      "         (ORDERED (INSERT (CAR X) (ISORT (CDR X)))))\r\n",
      "\r\n",
      "*1.1 (Subgoal *1/2'5') is pushed for proof by induction.\r\n",
      "\r\n",
      "])\r\n",
      "Subgoal *1/1\r\n",
      "Subgoal *1/1'\r\n",
      "\r\n",
      "So we now return to *1.1, which is\r\n",
      "\r\n",
      "(IMPLIES (ORDERED IT)\r\n",
      "         (ORDERED (INSERT X1 IT))).\r\n",
      "Subgoal *1.1/4\r\n",
      "Subgoal *1.1/4'\r\n",
      "\r\n",
      "Splitter note (see :DOC splitter) for Subgoal *1.1/4' (2 subgoals).\r\n",
      "  if-intro: ((:DEFINITION ORDERED))\r\n",
      "\r\n",
      "Subgoal *1.1/4.2\r\n",
      "Subgoal *1.1/4.1\r\n",
      "Subgoal *1.1/4.1.2\r\n",
      "Subgoal *1.1/4.1.1\r\n",
      "Subgoal *1.1/3\r\n",
      "Subgoal *1.1/3'\r\n",
      "\r\n",
      "Splitter note (see :DOC splitter) for Subgoal *1.1/3' (2 subgoals).\r\n",
      "  if-intro: ((:DEFINITION ORDERED))\r\n",
      "\r\n",
      "Subgoal *1.1/3.2\r\n",
      "Subgoal *1.1/3.1\r\n",
      "Subgoal *1.1/2\r\n",
      "Subgoal *1.1/2'\r\n",
      "\r\n",
      "Splitter note (see :DOC splitter) for Subgoal *1.1/2' (2 subgoals).\r\n",
      "  if-intro: ((:DEFINITION ORDERED))\r\n",
      "\r\n",
      "Subgoal *1.1/2.2\r\n",
      "Subgoal *1.1/2.1\r\n",
      "Subgoal *1.1/1\r\n",
      "Subgoal *1.1/1'\r\n",
      "\r\n",
      "*1.1 and *1 are COMPLETED!\r\n",
      "Thus key checkpoints Subgoal *1/2'' and Goal are COMPLETED!\r\n",
      "\r\n",
      "Q.E.D.\r\n",
      "\r\n",
      "The storage of ORDERED-ISORT depends upon the :type-prescription rule\r\n",
      "ORDERED.\r\n",
      "\r\n",
      "Summary\r\n",
      "Form:  ( DEFTHM ORDERED-ISORT ...)\r\n",
      "Rules: ((:DEFINITION ENDP)\r\n",
      "        (:DEFINITION INSERT)\r\n",
      "        (:DEFINITION ISORT)\r\n",
      "        (:DEFINITION NOT)\r\n",
      "        (:DEFINITION ORDERED)\r\n",
      "        (:ELIM CAR-CDR-ELIM)\r\n",
      "        (:EXECUTABLE-COUNTERPART ORDERED)\r\n",
      "        (:EXECUTABLE-COUNTERPART TAU-SYSTEM)\r\n",
      "        (:FAKE-RUNE-FOR-TYPE-SET NIL)\r\n",
      "        (:INDUCTION INSERT)\r\n",
      "        (:INDUCTION ISORT)\r\n",
      "        (:INDUCTION ORDERED)\r\n",
      "        (:REWRITE CAR-CONS)\r\n",
      "        (:REWRITE CDR-CONS)\r\n",
      "        (:REWRITE DEFAULT-<-1)\r\n",
      "        (:REWRITE DEFAULT-CAR)\r\n",
      "        (:TYPE-PRESCRIPTION INSERT)\r\n",
      "        (:TYPE-PRESCRIPTION ORDERED))\r\n",
      "Splitter rules (see :DOC splitter):\r\n",
      "  if-intro: ((:DEFINITION ORDERED))\r\n",
      "Time:  0.02 seconds (prove: 0.02, print: 0.00, other: 0.00)\r\n",
      "Prover steps counted:  3644\r\n",
      " ORDERED-ISORT\r\n"
     ]
    }
   ],
   "source": [
    "(defthm ordered-isort\n",
    "  (ordered (isort x)))"
   ]
  },
  {
   "cell_type": "markdown",
   "metadata": {},
   "source": [
    "---\n",
    "We cannot be sure that isort is correct just because it produces ordered output. It might always return nil!\n",
    "\n",
    "We next prove that it produces a permutation of its input.\n",
    "How would you define perm? We have already loaded a definition into the system in this session. This command will show you that definition. Read it and see whether it agrees with your ideas.\n",
    "\n",
    "(The following code is not same as the original demonstration. However, as we need to load book, I added an external book.)"
   ]
  },
  {
   "cell_type": "code",
   "execution_count": 1,
   "metadata": {},
   "outputs": [
    {
     "name": "stdout",
     "output_type": "stream",
     "text": [
      "\r\n",
      "Note: Writing .port file, /home/masaya/Documents/acl2-kernel/isort.port.\r\n",
      "\r\n",
      "CERTIFICATION ATTEMPT FOR \"/home/masaya/Documents/acl2-kernel/isort.lisp\"\r\n",
      "ACL2 Version 8.3\r\n",
      "\r\n",
      "* Step 1:  Read \"/home/masaya/Documents/acl2-kernel/isort.lisp\" and\r\n",
      "compute its book-hash.\r\n",
      "\r\n",
      "* Step 2:  There were two forms in the file.  We now attempt to establish\r\n",
      "that each form, whether local or non-local, is indeed an admissible\r\n",
      "embedded event form in the context of the previously admitted ones.\r\n",
      "\r\n",
      "\r\n"
     ]
    }
   ],
   "source": [
    "(certify-book \"isort\")\n",
    "(include-book \"isort\")"
   ]
  },
  {
   "cell_type": "markdown",
   "metadata": {},
   "source": [
    "---\n",
    "This strange output means that the definition of perm was contained in a book called \"isort\" which was included as the second command in the session. (That command happened before the demo began.)\n",
    "\n",
    "To read the definition above, think of it trying to determine whether x is a permutation of y. If x is a cons, then the first element of x must be a member of y and the rest of x must be a permutation of the result of deleting the first element of x from y. If, on the other hand, x is not a cons, i.e., if x is empty, then y must be empty also.\n",
    "\n"
   ]
  },
  {
   "cell_type": "code",
   "execution_count": 2,
   "metadata": {
    "scrolled": true
   },
   "outputs": [
    {
     "name": "stdout",
     "output_type": "stream",
     "text": [
      ">(DEFUN PERM (X Y)\r\n",
      "               (IF (CONSP X)\r\n",
      "                   (AND (MEMBER (CAR X) Y)\r\n",
      "                        (PERM (CDR X) (REMOVE X (CAR X))))\r\n",
      "                   (NOT (CONSP Y))))\r\n",
      "\r\n",
      "The admission of PERM is trivial, using the relation O< (which is known\r\n",
      "to be well-founded on the domain recognized by O-P) and the measure\r\n",
      "(ACL2-COUNT X).  We observe that the type of PERM is described by the\r\n",
      "theorem (OR (EQUAL (PERM X Y) T) (EQUAL (PERM X Y) NIL)).  \r\n",
      "\r\n",
      "Summary\r\n",
      "Form:  ( DEFUN PERM ...)\r\n",
      "Rules: NIL\r\n",
      "Time:  0.00 seconds (prove: 0.00, print: 0.00, other: 0.00)\r\n",
      "PERM\r\n",
      "\r\n",
      "* Step 3:  That completes the admissibility check.  Each form read\r\n",
      "was an embedded event form and was admissible.  No LOCAL forms make\r\n",
      "it necessary to check for local incompatibilities, so we skip that\r\n",
      "check.\r\n",
      "\r\n",
      "ACL2 Warning [Guards] in (CERTIFY-BOOK \"isort\" ...):  The book \r\n",
      "\"/home/masaya/Documents/acl2-kernel/isort.lisp\" defines the function\r\n",
      "PERM, which has not had its guards verified.  See :DOC guards.\r\n",
      "\r\n",
      "\r\n",
      "* Step 4:  Write the certificate for \r\n",
      "\"/home/masaya/Documents/acl2-kernel/isort.lisp\" in \r\n",
      "\"/home/masaya/Documents/acl2-kernel/isort.cert\".\r\n",
      "\r\n",
      "* Step 5:  Compile the functions defined in \r\n",
      "\"/home/masaya/Documents/acl2-kernel/isort.lisp\".\r\n",
      "\r\n",
      "Writing book expansion file, /home/masaya/Documents/acl2-kernel/isort@expansio\\\r\n",
      "n.lsp.\r\n",
      "\r\n",
      "\r\n",
      "Note: Deleting expansion file for the book,\r\n",
      "/home/masaya/Documents/acl2-kernel/isort.lisp.\r\n",
      "\r\n",
      "Summary\r\n",
      "Form:  (CERTIFY-BOOK \"isort\" ...)\r\n",
      "Rules: NIL\r\n",
      "Warnings:  Guards\r\n",
      "Time:  0.01 seconds (prove: 0.00, print: 0.00, other: 0.01)\r\n",
      " \"/home/masaya/Documents/acl2-kernel/isort.lisp\"\r\n"
     ]
    }
   ],
   "source": [
    "(pe 'perm)"
   ]
  },
  {
   "cell_type": "code",
   "execution_count": 6,
   "metadata": {},
   "outputs": [
    {
     "name": "stdout",
     "output_type": "stream",
     "text": [
      "\r\n",
      "\r\n",
      "ACL2 Error in TOP-LEVEL:  The guard for the function call \r\n",
      "(REMOVE-EQL-EXEC$GUARD-CHECK X L), which is \r\n",
      "(IF (EQLABLEP X) (TRUE-LISTP L) (EQLABLE-LISTP L)), is violated by\r\n",
      "the arguments in the call (REMOVE-EQL-EXEC$GUARD-CHECK '(1 2 3 3 ...) 1).\r\n",
      "See :DOC set-guard-checking for information about suppressing this\r\n",
      "check with (set-guard-checking :none), as recommended for new users.\r\n",
      "To debug see :DOC print-gv, see :DOC trace, and see :DOC wet.\r\n",
      "(See :DOC set-iprint to be able to see elided values in this message.)\r\n",
      "\r\n"
     ]
    }
   ],
   "source": [
    "(perm '(1 2 3 3 4) '(4 3 1 2 3))"
   ]
  },
  {
   "cell_type": "code",
   "execution_count": null,
   "metadata": {},
   "outputs": [],
   "source": []
  }
 ],
 "metadata": {
  "kernelspec": {
   "display_name": "ACL2",
   "language": "acl2",
   "name": "acl2"
  },
  "language_info": {
   "codemirror_mode": "lisp",
   "file_extension": ".acl2",
   "mimetype": "text/x-lisp",
   "name": "acl2"
  }
 },
 "nbformat": 4,
 "nbformat_minor": 4
}
